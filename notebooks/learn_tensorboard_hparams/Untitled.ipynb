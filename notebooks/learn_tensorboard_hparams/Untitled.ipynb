{
 "cells": [
  {
   "cell_type": "code",
   "execution_count": 9,
   "source": [
    "# Start TensorBoard.\n",
    "%reload_ext tensorboard\n",
    "\n",
    "import tensorflow as tf\n",
    "from tensorboard.plugins.hparams import api as hp\n",
    "from datetime import datetime\n",
    "\n",
    "import matplotlib.pyplot as plt\n",
    "import numpy as np\n",
    "import os\n",
    "import PIL\n",
    "import tensorflow as tf\n",
    "from pathlib import Path\n",
    "import itertools\n",
    "import sklearn\n",
    "import sklearn.metrics\n",
    "import io\n",
    "from tensorflow import keras"
   ],
   "outputs": [],
   "metadata": {}
  },
  {
   "cell_type": "code",
   "execution_count": 10,
   "source": [
    "# Download the data. The data is already divided into train and test.\n",
    "# The labels are integers representing classes.\n",
    "fashion_mnist = keras.datasets.fashion_mnist\n",
    "(train_images, train_labels), (test_images, test_labels) = \\\n",
    "    fashion_mnist.load_data()\n",
    "\n",
    "# Names of the integer classes, i.e., 0 -> T-short/top, 1 -> Trouser, etc.\n",
    "class_names = ['T-shirt/top', 'Trouser', 'Pullover', 'Dress', 'Coat', \n",
    "    'Sandal', 'Shirt', 'Sneaker', 'Bag', 'Ankle boot']\n"
   ],
   "outputs": [],
   "metadata": {}
  },
  {
   "cell_type": "code",
   "execution_count": 11,
   "source": [
    "model = keras.models.Sequential([\n",
    "    keras.layers.Flatten(input_shape=(28, 28)),\n",
    "    keras.layers.Dense(32, activation='relu'),\n",
    "    keras.layers.Dense(10, activation='softmax')\n",
    "])\n",
    "\n",
    "model.compile(\n",
    "    optimizer='adam', \n",
    "    loss='sparse_categorical_crossentropy',\n",
    "    metrics=['accuracy']\n",
    ")\n"
   ],
   "outputs": [],
   "metadata": {}
  },
  {
   "cell_type": "code",
   "execution_count": 12,
   "source": [
    "def plot_confusion_matrix(cm, class_names):\n",
    "  \"\"\"\n",
    "  Returns a matplotlib figure containing the plotted confusion matrix.\n",
    "\n",
    "  Args:\n",
    "    cm (array, shape = [n, n]): a confusion matrix of integer classes\n",
    "    class_names (array, shape = [n]): String names of the integer classes\n",
    "  \"\"\"\n",
    "  figure = plt.figure(figsize=(8, 8))\n",
    "  plt.imshow(cm, interpolation='nearest', cmap=plt.cm.Blues)\n",
    "  plt.title(\"Confusion matrix\")\n",
    "  plt.colorbar()\n",
    "  tick_marks = np.arange(len(class_names))\n",
    "  plt.xticks(tick_marks, class_names, rotation=45)\n",
    "  plt.yticks(tick_marks, class_names)\n",
    "\n",
    "  # Compute the labels from the normalized confusion matrix.\n",
    "  labels = np.around(cm.astype('float') / cm.sum(axis=1)[:, np.newaxis], decimals=2)\n",
    "\n",
    "  # Use white text if squares are dark; otherwise black.\n",
    "  threshold = cm.max() / 2.\n",
    "  for i, j in itertools.product(range(cm.shape[0]), range(cm.shape[1])):\n",
    "    color = \"white\" if cm[i, j] > threshold else \"black\"\n",
    "    plt.text(j, i, labels[i, j], horizontalalignment=\"center\", color=color)\n",
    "\n",
    "  plt.tight_layout()\n",
    "  plt.ylabel('True label')\n",
    "  plt.xlabel('Predicted label')\n",
    "  return figure\n"
   ],
   "outputs": [],
   "metadata": {}
  },
  {
   "cell_type": "code",
   "execution_count": 13,
   "source": [
    "# Clear out prior logging data.\n",
    "!rm -rf logs/\n",
    "\n",
    "logdir = \"logs/\" + datetime.now().strftime(\"%Y%m%d-%H%M%S\")\n",
    "# Define the basic TensorBoard callback.\n",
    "tensorboard_callback = keras.callbacks.TensorBoard(log_dir=logdir)\n",
    "file_writer_cm = tf.summary.create_file_writer(logdir + '/cm')\n"
   ],
   "outputs": [],
   "metadata": {}
  },
  {
   "cell_type": "code",
   "execution_count": 14,
   "source": [
    "def plot_to_image(figure):\n",
    "  \"\"\"Converts the matplotlib plot specified by 'figure' to a PNG image and\n",
    "  returns it. The supplied figure is closed and inaccessible after this call.\"\"\"\n",
    "  # Save the plot to a PNG in memory.\n",
    "  buf = io.BytesIO()\n",
    "  plt.savefig(buf, format='png')\n",
    "  # Closing the figure prevents it from being displayed directly inside\n",
    "  # the notebook.\n",
    "  plt.close(figure)\n",
    "  buf.seek(0)\n",
    "  # Convert PNG buffer to TF image\n",
    "  image = tf.image.decode_png(buf.getvalue(), channels=4)\n",
    "  # Add the batch dimension\n",
    "  image = tf.expand_dims(image, 0)\n",
    "  return image"
   ],
   "outputs": [],
   "metadata": {}
  },
  {
   "cell_type": "code",
   "execution_count": 15,
   "source": [
    "def log_confusion_matrix(epoch, logs):\n",
    "  print(\"-----\")\n",
    "  # Use the model to predict the values from the validation dataset.\n",
    "  test_pred_raw = model.predict(test_images)\n",
    "  print(len(test_pred_raw))\n",
    "\n",
    "  test_pred = np.argmax(test_pred_raw, axis=1)\n",
    "  print(len(test_pred))\n",
    "  # Calculate the confusion matrix.\n",
    "  cm = sklearn.metrics.confusion_matrix(test_labels, test_pred)\n",
    "  # Log the confusion matrix as an image summary.\n",
    "  figure = plot_confusion_matrix(cm, class_names=class_names)\n",
    "  cm_image = plot_to_image(figure)\n",
    "\n",
    "  # Log the confusion matrix as an image summary.\n",
    "  with file_writer_cm.as_default():\n",
    "    tf.summary.image(\"Confusion Matrix\", cm_image, step=epoch)\n",
    "\n",
    "# Define the per-epoch callback.\n",
    "cm_callback = keras.callbacks.LambdaCallback(on_epoch_end=log_confusion_matrix)\n"
   ],
   "outputs": [],
   "metadata": {}
  },
  {
   "cell_type": "code",
   "execution_count": 16,
   "source": [
    "# # Start TensorBoard.\n",
    "%reload_ext tensorboard\n",
    "%tensorboard --logdir logs --bind_all --purge_orphaned_data True\n",
    "\n",
    "# Train the classifier.\n",
    "model.fit(\n",
    "    train_images,\n",
    "    train_labels,\n",
    "    epochs=5,\n",
    "    verbose=0, # Suppress chatty output\n",
    "    callbacks=[tensorboard_callback, cm_callback],\n",
    "    validation_data=(test_images, test_labels),\n",
    ")\n"
   ],
   "outputs": [
    {
     "output_type": "display_data",
     "data": {
      "text/plain": [
       "Reusing TensorBoard on port 6006 (pid 1670), started 0:01:57 ago. (Use '!kill 1670' to kill it.)"
      ]
     },
     "metadata": {}
    },
    {
     "output_type": "display_data",
     "data": {
      "text/html": [
       "\n",
       "      <iframe id=\"tensorboard-frame-1920e6d8bcbc56e3\" width=\"100%\" height=\"800\" frameborder=\"0\">\n",
       "      </iframe>\n",
       "      <script>\n",
       "        (function() {\n",
       "          const frame = document.getElementById(\"tensorboard-frame-1920e6d8bcbc56e3\");\n",
       "          const url = new URL(\"http://localhost\");\n",
       "          const port = 6006;\n",
       "          if (port) {\n",
       "            url.port = port;\n",
       "          }\n",
       "          frame.src = url;\n",
       "        })();\n",
       "      </script>\n",
       "    "
      ],
      "text/plain": [
       "<IPython.core.display.HTML object>"
      ]
     },
     "metadata": {}
    },
    {
     "output_type": "stream",
     "name": "stdout",
     "text": [
      "-----\n",
      "[[5.5399297e-36 0.0000000e+00 0.0000000e+00 ... 2.9944065e-01\n",
      "  5.9337261e-24 5.7420468e-01]\n",
      " [6.6975720e-02 3.4300022e-02 1.6531739e-01 ... 4.1683599e-02\n",
      "  1.6462050e-01 5.8530502e-02]\n",
      " [2.3791726e-14 9.9999964e-01 0.0000000e+00 ... 0.0000000e+00\n",
      "  8.9320259e-23 7.8401113e-38]\n",
      " ...\n",
      " [6.6975720e-02 3.4300022e-02 1.6531739e-01 ... 4.1683599e-02\n",
      "  1.6462050e-01 5.8530502e-02]\n",
      " [3.2261640e-30 9.9978501e-01 0.0000000e+00 ... 0.0000000e+00\n",
      "  0.0000000e+00 0.0000000e+00]\n",
      " [2.3902217e-03 4.6109073e-03 9.9074142e-03 ... 4.5424235e-01\n",
      "  6.0284059e-03 5.0826404e-02]]\n",
      "[9 2 1 ... 2 1 7]\n",
      "-----\n",
      "[[0.0000000e+00 0.0000000e+00 0.0000000e+00 ... 5.7795830e-02\n",
      "  8.6946001e-25 8.5066849e-01]\n",
      " [5.1347181e-02 1.7271357e-02 2.0602329e-01 ... 2.4220850e-02\n",
      "  1.9772097e-01 1.8474031e-02]\n",
      " [8.2250323e-10 1.0000000e+00 0.0000000e+00 ... 0.0000000e+00\n",
      "  7.4648212e-28 0.0000000e+00]\n",
      " ...\n",
      " [5.1347181e-02 1.7271357e-02 2.0602329e-01 ... 2.4220850e-02\n",
      "  1.9772097e-01 1.8474031e-02]\n",
      " [1.1239955e-08 1.0000000e+00 0.0000000e+00 ... 0.0000000e+00\n",
      "  0.0000000e+00 0.0000000e+00]\n",
      " [1.3115528e-11 2.0568651e-09 5.1930166e-10 ... 5.3672129e-01\n",
      "  3.8872114e-09 5.2352391e-02]]\n",
      "[9 4 1 ... 4 1 7]\n",
      "-----\n",
      "[[0.00000000e+00 0.00000000e+00 0.00000000e+00 ... 1.16771333e-01\n",
      "  3.81589975e-36 8.06685567e-01]\n",
      " [5.14504761e-02 1.16947722e-02 2.66145647e-01 ... 1.51388301e-02\n",
      "  1.11771971e-01 9.72986966e-03]\n",
      " [3.68899349e-14 1.00000000e+00 0.00000000e+00 ... 0.00000000e+00\n",
      "  1.87519179e-24 0.00000000e+00]\n",
      " ...\n",
      " [1.18127890e-01 1.73940100e-06 2.41545141e-01 ... 5.16350288e-03\n",
      "  1.17432155e-01 3.29391658e-03]\n",
      " [2.33988664e-13 1.00000000e+00 0.00000000e+00 ... 0.00000000e+00\n",
      "  0.00000000e+00 0.00000000e+00]\n",
      " [7.46359045e-17 1.93349771e-13 1.03571462e-13 ... 7.00097442e-01\n",
      "  3.02695952e-07 8.98380205e-02]]\n",
      "[9 2 1 ... 6 1 7]\n",
      "-----\n",
      "[[0.0000000e+00 0.0000000e+00 0.0000000e+00 ... 2.8720073e-02\n",
      "  6.6782322e-16 8.5270357e-01]\n",
      " [4.6445362e-02 8.8434350e-03 3.0552056e-01 ... 1.0443727e-02\n",
      "  5.7110682e-02 5.9784055e-03]\n",
      " [2.0164037e-10 1.0000000e+00 1.4071763e-19 ... 0.0000000e+00\n",
      "  9.7367843e-12 0.0000000e+00]\n",
      " ...\n",
      " [1.7507718e-03 2.3995485e-14 4.3279232e-04 ... 1.1458618e-07\n",
      "  9.9344277e-01 9.3196995e-06]\n",
      " [7.2072628e-09 1.0000000e+00 2.7117604e-20 ... 0.0000000e+00\n",
      "  5.7526362e-12 0.0000000e+00]\n",
      " [2.7517177e-12 1.2285710e-12 5.4257394e-11 ... 3.9363638e-01\n",
      "  2.5214429e-03 5.3571951e-02]]\n",
      "[9 2 1 ... 8 1 5]\n",
      "-----\n",
      "[[0.0000000e+00 0.0000000e+00 0.0000000e+00 ... 3.5522768e-01\n",
      "  1.4675081e-11 5.5956835e-01]\n",
      " [4.5562215e-02 6.8315198e-03 3.2631946e-01 ... 7.9690758e-03\n",
      "  3.4096289e-02 4.1772933e-03]\n",
      " [1.1032976e-10 1.0000000e+00 5.1488916e-17 ... 0.0000000e+00\n",
      "  1.1900386e-20 0.0000000e+00]\n",
      " ...\n",
      " [3.8553840e-03 1.9158002e-11 4.6173587e-05 ... 4.4571232e-05\n",
      "  9.3937916e-01 9.2659587e-07]\n",
      " [2.1565796e-09 9.9999619e-01 1.6379184e-17 ... 0.0000000e+00\n",
      "  6.8872381e-19 0.0000000e+00]\n",
      " [7.1545519e-36 6.2706420e-28 4.9737347e-34 ... 8.8202018e-01\n",
      "  1.9383745e-03 5.6802947e-03]]\n",
      "[9 2 1 ... 8 1 7]\n"
     ]
    },
    {
     "output_type": "execute_result",
     "data": {
      "text/plain": [
       "<keras.callbacks.History at 0x7fc724125ba8>"
      ]
     },
     "metadata": {},
     "execution_count": 16
    }
   ],
   "metadata": {}
  },
  {
   "cell_type": "code",
   "execution_count": null,
   "source": [],
   "outputs": [],
   "metadata": {}
  },
  {
   "cell_type": "code",
   "execution_count": null,
   "source": [],
   "outputs": [],
   "metadata": {}
  },
  {
   "cell_type": "code",
   "execution_count": null,
   "source": [],
   "outputs": [],
   "metadata": {}
  }
 ],
 "metadata": {
  "orig_nbformat": 4,
  "language_info": {
   "name": "python",
   "version": "3.6.9",
   "mimetype": "text/x-python",
   "codemirror_mode": {
    "name": "ipython",
    "version": 3
   },
   "pygments_lexer": "ipython3",
   "nbconvert_exporter": "python",
   "file_extension": ".py"
  },
  "kernelspec": {
   "name": "python3",
   "display_name": "Python 3.6.9 64-bit"
  },
  "interpreter": {
   "hash": "31f2aee4e71d21fbe5cf8b01ff0e069b9275f58929596ceb00d14d90e3e16cd6"
  }
 },
 "nbformat": 4,
 "nbformat_minor": 2
}